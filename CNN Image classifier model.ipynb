{
 "cells": [
  {
   "cell_type": "markdown",
   "metadata": {},
   "source": [
    "`IMPORT NECESSARY MODULES/LIBRARY.`"
   ]
  },
  {
   "cell_type": "code",
   "execution_count": 1,
   "metadata": {},
   "outputs": [],
   "source": [
    "import tensorflow as tf \n",
    "import os\n",
    "import cv2 as cv \n",
    "import keras\n",
    "import numpy as np \n",
    "import math\n",
    "from matplotlib import pyplot as plt \n",
    "from tensorflow.keras import models, layers\n",
    "from tensorflow.keras.optimizers import Adam\n",
    "from tensorflow.keras.preprocessing.image import ImageDataGenerator"
   ]
  },
  {
   "cell_type": "markdown",
   "metadata": {},
   "source": [
    "`DEFINING A PLOTTING FUNCTION TO BE USED LATER.`"
   ]
  },
  {
   "cell_type": "code",
   "execution_count": 2,
   "metadata": {},
   "outputs": [],
   "source": [
    "def imagesPlot(arr_images):\n",
    "    fig, axes = plt.subplots(1, 5, figsize = (10, 10))\n",
    "    axes = axes.flatten()\n",
    "    for image, ax in zip(arr_images, axes):\n",
    "        ax.imshow(image)\n",
    "        plt.tight_layout()\n",
    "        plt.axis(\"off\")\n",
    "        plt.show()"
   ]
  },
  {
   "cell_type": "markdown",
   "metadata": {},
   "source": [
    "`LOAD THE DATASET.`"
   ]
  },
  {
   "cell_type": "code",
   "execution_count": 3,
   "metadata": {},
   "outputs": [],
   "source": [
    "data_dir = \"picture_data\""
   ]
  },
  {
   "cell_type": "code",
   "execution_count": 4,
   "metadata": {},
   "outputs": [],
   "source": [
    "for image_class in os.listdir(data_dir):\n",
    "    for image in os.listdir(os.path.join(data_dir, image_class)):\n",
    "        image_path = os.path.join(data_dir, image_class, image)\n",
    "        try:\n",
    "            img = cv.imread(image_path)\n",
    "        except Exception as err:\n",
    "            print(f\"Issues with image {image_path}\")"
   ]
  },
  {
   "cell_type": "code",
   "execution_count": 5,
   "metadata": {},
   "outputs": [
    {
     "name": "stdout",
     "output_type": "stream",
     "text": [
      "Found 516 files belonging to 2 classes.\n"
     ]
    },
    {
     "name": "stderr",
     "output_type": "stream",
     "text": [
      "2024-01-02 16:37:53.885445: I metal_plugin/src/device/metal_device.cc:1154] Metal device set to: Apple M1 Pro\n",
      "2024-01-02 16:37:53.885474: I metal_plugin/src/device/metal_device.cc:296] systemMemory: 16.00 GB\n",
      "2024-01-02 16:37:53.885477: I metal_plugin/src/device/metal_device.cc:313] maxCacheSize: 5.33 GB\n",
      "2024-01-02 16:37:53.885522: I tensorflow/core/common_runtime/pluggable_device/pluggable_device_factory.cc:306] Could not identify NUMA node of platform GPU ID 0, defaulting to 0. Your kernel may not have been built with NUMA support.\n",
      "2024-01-02 16:37:53.885536: I tensorflow/core/common_runtime/pluggable_device/pluggable_device_factory.cc:272] Created TensorFlow device (/job:localhost/replica:0/task:0/device:GPU:0 with 0 MB memory) -> physical PluggableDevice (device: 0, name: METAL, pci bus id: <undefined>)\n"
     ]
    }
   ],
   "source": [
    "data  = tf.keras.utils.image_dataset_from_directory(\"picture_data\")"
   ]
  },
  {
   "cell_type": "markdown",
   "metadata": {},
   "source": [
    "`SPLIT THE DATASETS TO TRAINING & VALIDATION SET.`"
   ]
  },
  {
   "cell_type": "code",
   "execution_count": 6,
   "metadata": {},
   "outputs": [
    {
     "name": "stdout",
     "output_type": "stream",
     "text": [
      "Found 516 files belonging to 2 classes.\n",
      "Using 413 files for training.\n"
     ]
    }
   ],
   "source": [
    "train_set = tf.keras.utils.image_dataset_from_directory(\n",
    "    data_dir,\n",
    "    validation_split = 0.2,\n",
    "    subset = \"training\",\n",
    "    seed = 250,\n",
    "    #batch_size = batch_size\n",
    ")"
   ]
  },
  {
   "cell_type": "code",
   "execution_count": 7,
   "metadata": {},
   "outputs": [
    {
     "name": "stdout",
     "output_type": "stream",
     "text": [
      "Found 516 files belonging to 2 classes.\n",
      "Using 103 files for validation.\n"
     ]
    }
   ],
   "source": [
    "validation_set = tf.keras.utils.image_dataset_from_directory(\n",
    "    data_dir,\n",
    "    validation_split = 0.2,\n",
    "    subset = \"validation\",\n",
    "    seed = 250,\n",
    "    #batch_size = batch_size\n",
    ")"
   ]
  },
  {
   "cell_type": "markdown",
   "metadata": {},
   "source": [
    "`Load Test Images.`"
   ]
  },
  {
   "cell_type": "code",
   "execution_count": 8,
   "metadata": {},
   "outputs": [],
   "source": [
    "test_dir = \"test_data\"\n",
    "\n",
    "non_defect_dir = \"test_data/defect\"\n",
    "os.makedirs(non_defect_dir, exist_ok = True)"
   ]
  },
  {
   "cell_type": "code",
   "execution_count": 9,
   "metadata": {},
   "outputs": [
    {
     "name": "stdout",
     "output_type": "stream",
     "text": [
      "Skipping non-image file: test_data/defect\n",
      "Skipping non-image file: test_data/ppp\n"
     ]
    }
   ],
   "source": [
    "k = 0\n",
    "for image in os.listdir(test_dir):\n",
    "    image_path = os.path.join(test_dir, image)\n",
    "    image = cv.imread(image_path)\n",
    "\n",
    "    if image is not None:\n",
    "\n",
    "        #image = image.numpy()\n",
    "        image = cv.resize(image, (255, 255))\n",
    "        image_name = f\"image{k}.jpg\"\n",
    "        k += 1\n",
    "\n",
    "        non_defect_path = os.path.join(non_defect_dir, image_name)\n",
    "        cv.imwrite(non_defect_path, image)\n",
    "    else:\n",
    "        print(f\"Skipping non-image file: {image_path}\")"
   ]
  },
  {
   "cell_type": "code",
   "execution_count": 10,
   "metadata": {},
   "outputs": [],
   "source": [
    "for image_class in os.listdir(test_dir):\n",
    "    for image in os.listdir(os.path.join(test_dir, image_class)):\n",
    "        image_path = os.path.join(test_dir, image_class, image)\n",
    "        try:\n",
    "            img = cv.imread(image_path)\n",
    "        except Exception as err:\n",
    "            print(f\"Issues with image {image_path}\")"
   ]
  },
  {
   "cell_type": "code",
   "execution_count": 11,
   "metadata": {},
   "outputs": [
    {
     "name": "stdout",
     "output_type": "stream",
     "text": [
      "Found 14 files belonging to 2 classes.\n"
     ]
    }
   ],
   "source": [
    "test  = tf.keras.utils.image_dataset_from_directory(\"test_data\")"
   ]
  },
  {
   "cell_type": "code",
   "execution_count": 12,
   "metadata": {},
   "outputs": [],
   "source": [
    "normalization = tf.keras.layers.Rescaling(1./255)\n",
    "\n",
    "test_set = test.map(lambda x, y: (normalization(x), y))"
   ]
  },
  {
   "cell_type": "markdown",
   "metadata": {},
   "source": [
    "`WRITE TRAINNING & VALIDATION SET TO DIRECTORY.`\n",
    "\n",
    "BASE ON THEIR CLASSES."
   ]
  },
  {
   "cell_type": "code",
   "execution_count": 13,
   "metadata": {},
   "outputs": [],
   "source": [
    "train_directory = \"data/train\"\n",
    "\n",
    "os.makedirs(train_directory, exist_ok = True)"
   ]
  },
  {
   "cell_type": "code",
   "execution_count": 14,
   "metadata": {},
   "outputs": [
    {
     "name": "stdout",
     "output_type": "stream",
     "text": [
      "Training set saved to the training directory.\n"
     ]
    }
   ],
   "source": [
    "class_images = { }\n",
    "\n",
    "for images, labels in train_set:\n",
    "    #print(labels)\n",
    "    #label = \"label\" +str(count)\n",
    "    for i in range(images.shape[0]):\n",
    "        #print(i)\n",
    "        image = images[i].numpy()\n",
    "        label = labels[i].numpy()\n",
    "\n",
    "        label_str = str(label)\n",
    "\n",
    "        class_directory = os.path.join(train_directory, label_str)\n",
    "        os.makedirs(class_directory, exist_ok = True)\n",
    "\n",
    "        if label_str not in class_images:\n",
    "            class_images[label_str] = [ ]\n",
    "\n",
    "        class_images[label_str].append(image)\n",
    "\n",
    "\n",
    "for label_str, image_list in class_images.items():\n",
    "    class_directory = os.path.join(train_directory, label_str)\n",
    "\n",
    "    for i, image in enumerate(image_list):\n",
    "\n",
    "        image_filename = f\"image{i}.jpg\"\n",
    "        image_path = os.path.join(class_directory, image_filename)\n",
    "        tf.keras.utils.save_img(image_path, image)\n",
    "\n",
    "print(\"Training set saved to the training directory.\")"
   ]
  },
  {
   "cell_type": "code",
   "execution_count": 15,
   "metadata": {},
   "outputs": [],
   "source": [
    "validation_directory = \"data/validation\"\n",
    "\n",
    "os.makedirs(validation_directory, exist_ok = True)"
   ]
  },
  {
   "cell_type": "code",
   "execution_count": 16,
   "metadata": {},
   "outputs": [
    {
     "name": "stdout",
     "output_type": "stream",
     "text": [
      "Validation set saved to the validation directory.\n"
     ]
    }
   ],
   "source": [
    "class_images = { }\n",
    "\n",
    "for images, labels in validation_set:\n",
    "    #print(labels)\n",
    "    #label = \"label\" +str(count)\n",
    "    for i in range(images.shape[0]):\n",
    "        #print(i)\n",
    "        image = images[i].numpy()\n",
    "        label = labels[i].numpy()\n",
    "\n",
    "        label_str = str(label)\n",
    "\n",
    "        class_directory = os.path.join(validation_directory, label_str)\n",
    "        os.makedirs(class_directory, exist_ok = True)\n",
    "\n",
    "        if label_str not in class_images:\n",
    "            class_images[label_str] = [ ]\n",
    "\n",
    "        class_images[label_str].append(image)\n",
    "\n",
    "\n",
    "for label_str, image_list in class_images.items():\n",
    "    class_directory = os.path.join(validation_directory, label_str)\n",
    "\n",
    "    for i, image in enumerate(image_list):\n",
    "\n",
    "        image_filename = f\"image{i}.jpg\"\n",
    "        image_path = os.path.join(class_directory, image_filename)\n",
    "        tf.keras.utils.save_img(image_path, image)\n",
    "\n",
    "print(\"Validation set saved to the validation directory.\")"
   ]
  },
  {
   "cell_type": "markdown",
   "metadata": {},
   "source": [
    "Number of Training sets."
   ]
  },
  {
   "cell_type": "code",
   "execution_count": 17,
   "metadata": {},
   "outputs": [],
   "source": [
    "train_directory = train_directory\n",
    "train_0_dir = os.path.join(train_directory, \"0\")\n",
    "\n",
    "train_1_dir = os.path.join(train_directory, \"1\")"
   ]
  },
  {
   "cell_type": "code",
   "execution_count": 18,
   "metadata": {},
   "outputs": [
    {
     "name": "stdout",
     "output_type": "stream",
     "text": [
      "413\n"
     ]
    }
   ],
   "source": [
    "num_0_train = len(os.listdir(train_0_dir))\n",
    "num_1_train = len(os.listdir(train_1_dir))\n",
    "\n",
    "total_train = num_0_train + num_1_train\n",
    "print(total_train)"
   ]
  },
  {
   "cell_type": "markdown",
   "metadata": {},
   "source": [
    "Number of Validation sets."
   ]
  },
  {
   "cell_type": "code",
   "execution_count": 19,
   "metadata": {},
   "outputs": [],
   "source": [
    "validation_directory = validation_directory\n",
    "\n",
    "val_0_dir = os.path.join(validation_directory, \"0\")\n",
    "val_1_dir = os.path.join(validation_directory, \"1\")"
   ]
  },
  {
   "cell_type": "code",
   "execution_count": 20,
   "metadata": {},
   "outputs": [
    {
     "name": "stdout",
     "output_type": "stream",
     "text": [
      "103\n"
     ]
    }
   ],
   "source": [
    "num_0_val = len(os.listdir(val_0_dir))\n",
    "num_1_val = len(os.listdir(val_1_dir))\n",
    "\n",
    "total_validation = num_0_val + num_1_val\n",
    "print(total_validation)"
   ]
  },
  {
   "cell_type": "markdown",
   "metadata": {},
   "source": [
    "`DATA AUGMENTATION.`\n",
    "\n",
    "\n",
    "* USING FLIP.\n",
    "* ZOOM.\n",
    "* ROTATION."
   ]
  },
  {
   "cell_type": "code",
   "execution_count": 21,
   "metadata": {},
   "outputs": [],
   "source": [
    "batch_size = 32\n",
    "image_shape = 256"
   ]
  },
  {
   "cell_type": "code",
   "execution_count": 22,
   "metadata": {},
   "outputs": [],
   "source": [
    "image_gen = ImageDataGenerator(rescale=1./255, horizontal_flip=True)"
   ]
  },
  {
   "cell_type": "code",
   "execution_count": 23,
   "metadata": {},
   "outputs": [
    {
     "name": "stdout",
     "output_type": "stream",
     "text": [
      "Found 413 images belonging to 2 classes.\n"
     ]
    }
   ],
   "source": [
    "image_shape = 256\n",
    "train_data_gen = image_gen.flow_from_directory(batch_size = batch_size,\n",
    "                                          directory = train_directory,\n",
    "                                          shuffle = True,\n",
    "                                          target_size = (image_shape, image_shape))"
   ]
  },
  {
   "cell_type": "code",
   "execution_count": 24,
   "metadata": {},
   "outputs": [
    {
     "data": {
      "image/png": "[encoded data removed]",
      "text/plain": [
       "<Figure size 1000x1000 with 5 Axes>"
      ]
     },
     "metadata": {},
     "output_type": "display_data"
    },
    {
     "data": {
      "image/png": "[encoded data removed]",
      "text/plain": [
       "<Figure size 640x480 with 1 Axes>"
      ]
     },
     "metadata": {},
     "output_type": "display_data"
    },
    {
     "data": {
      "image/png": "[encoded data removed]",
      "text/plain": [
       "<Figure size 640x480 with 1 Axes>"
      ]
     },
     "metadata": {},
     "output_type": "display_data"
    },
    {
     "data": {
      "image/png": "[encoded data removed]",
      "text/plain": [
       "<Figure size 640x480 with 1 Axes>"
      ]
     },
     "metadata": {},
     "output_type": "display_data"
    },
    {
     "data": {
      "image/png": "[encoded data removed]",
      "text/plain": [
       "<Figure size 640x480 with 1 Axes>"
      ]
     },
     "metadata": {},
     "output_type": "display_data"
    }
   ],
   "source": [
    "#TRANSFORMATION IN ACTION.\n",
    "augmented_images = [train_data_gen[0][0][0] for i in range(5)]\n",
    "imagesPlot(augmented_images)"
   ]
  },
  {
   "cell_type": "markdown",
   "metadata": {},
   "source": [
    "Adding grayscaled images to augmentation pipeline."
   ]
  },
  {
   "cell_type": "code",
   "execution_count": 25,
   "metadata": {},
   "outputs": [],
   "source": [
    "# def gray_scale (imagex):\n",
    "#     return tf.image.rgb_to_grayscale(imagex)"
   ]
  },
  {
   "cell_type": "code",
   "execution_count": 26,
   "metadata": {},
   "outputs": [],
   "source": [
    "# ADDING ALL AUGMENTATION TOGETHER.\n",
    "\n",
    "image_gen_train = ImageDataGenerator(\n",
    "    rescale = 1./255,\n",
    "    rotation_range = 40,\n",
    "    #brightness_range = [0.5, 1.8],       #**\n",
    "    width_shift_range = 0.2,\n",
    "    height_shift_range = 0.2,\n",
    "    shear_range = 0.2,\n",
    "    zoom_range = 0.2,\n",
    "    horizontal_flip = True,\n",
    "    fill_mode = \"nearest\",\n",
    ")"
   ]
  },
  {
   "cell_type": "code",
   "execution_count": 27,
   "metadata": {},
   "outputs": [
    {
     "name": "stdout",
     "output_type": "stream",
     "text": [
      "Found 413 images belonging to 2 classes.\n"
     ]
    }
   ],
   "source": [
    "train_data_gen = image_gen_train.flow_from_directory(batch_size = batch_size,\n",
    "                                                     directory = train_directory,\n",
    "                                                     shuffle = True,\n",
    "                                                     target_size = (image_shape, image_shape),\n",
    "                                                     class_mode = \"binary\")"
   ]
  },
  {
   "cell_type": "markdown",
   "metadata": {},
   "source": [
    "`Augmentation for Validation set.`"
   ]
  },
  {
   "cell_type": "code",
   "execution_count": 28,
   "metadata": {},
   "outputs": [
    {
     "name": "stdout",
     "output_type": "stream",
     "text": [
      "Found 103 images belonging to 2 classes.\n"
     ]
    }
   ],
   "source": [
    "image_gen_validation = ImageDataGenerator(rescale = 1./255)\n",
    "\n",
    "validation_data_gen = image_gen_validation.flow_from_directory(batch_size = batch_size,\n",
    "                                                               directory = validation_directory,\n",
    "                                                               target_size = (image_shape, image_shape),\n",
    "                                                               class_mode = \"binary\")"
   ]
  },
  {
   "cell_type": "markdown",
   "metadata": {},
   "source": [
    "`BUILD THE BASE MODEL FOR CNN`"
   ]
  },
  {
   "cell_type": "code",
   "execution_count": 29,
   "metadata": {},
   "outputs": [],
   "source": [
    "classes_num = 2\n",
    "\n",
    "model = tf.keras.Sequential([\n",
    "    tf.keras.layers.Conv2D(32, (3, 3), 1, activation = tf.nn.relu, input_shape = (256, 256, 3)),\n",
    "    tf.keras.layers.MaxPooling2D((2, 2)),\n",
    "\n",
    "    tf.keras.layers.Conv2D(64, (3, 3), 1, activation = tf.nn.relu),\n",
    "    tf.keras.layers.MaxPooling2D((2, 2)),\n",
    "    \n",
    "    tf.keras.layers.Conv2D(128, (3, 3), 1, activation = tf.nn.relu),\n",
    "    tf.keras.layers.MaxPooling2D((2, 2)),\n",
    "\n",
    "    \n",
    "    #tf.keras.layers.Dropout(0.2),                                         #**\n",
    "    tf.keras.layers.Flatten(),\n",
    "    tf.keras.layers.Dense(256, activation = tf.nn.relu),\n",
    "    #tf.keras.layers.Dense(8, activation = tf.nn.softmax),                  #**\n",
    "\n",
    "    tf.keras.layers.Dense(classes_num)\n",
    "\n",
    "])"
   ]
  },
  {
   "cell_type": "code",
   "execution_count": 30,
   "metadata": {},
   "outputs": [
    {
     "name": "stderr",
     "output_type": "stream",
     "text": [
      "WARNING:absl:At this time, the v2.11+ optimizer `tf.keras.optimizers.Adam` runs slowly on M1/M2 Macs, please use the legacy Keras optimizer instead, located at `tf.keras.optimizers.legacy.Adam`.\n"
     ]
    }
   ],
   "source": [
    "optimizer =  Adam(learning_rate = 0.001)\n",
    "model.compile(optimizer = optimizer,\n",
    "              loss = tf.keras.losses.SparseCategoricalCrossentropy(from_logits = True),\n",
    "              metrics = [\"accuracy\"])"
   ]
  },
  {
   "cell_type": "code",
   "execution_count": 31,
   "metadata": {},
   "outputs": [
    {
     "name": "stdout",
     "output_type": "stream",
     "text": [
      "Model: \"sequential\"\n",
      "_________________________________________________________________\n",
      " Layer (type)                Output Shape              Param #   \n",
      "=================================================================\n",
      " conv2d (Conv2D)             (None, 254, 254, 32)      896       \n",
      "                                                                 \n",
      " max_pooling2d (MaxPooling2  (None, 127, 127, 32)      0         \n",
      " D)                                                              \n",
      "                                                                 \n",
      " conv2d_1 (Conv2D)           (None, 125, 125, 64)      18496     \n",
      "                                                                 \n",
      " max_pooling2d_1 (MaxPoolin  (None, 62, 62, 64)        0         \n",
      " g2D)                                                            \n",
      "                                                                 \n",
      " conv2d_2 (Conv2D)           (None, 60, 60, 128)       73856     \n",
      "                                                                 \n",
      " max_pooling2d_2 (MaxPoolin  (None, 30, 30, 128)       0         \n",
      " g2D)                                                            \n",
      "                                                                 \n",
      " flatten (Flatten)           (None, 115200)            0         \n",
      "                                                                 \n",
      " dense (Dense)               (None, 256)               29491456  \n",
      "                                                                 \n",
      " dense_1 (Dense)             (None, 2)                 514       \n",
      "                                                                 \n",
      "=================================================================\n",
      "Total params: 29585218 (112.86 MB)\n",
      "Trainable params: 29585218 (112.86 MB)\n",
      "Non-trainable params: 0 (0.00 Byte)\n",
      "_________________________________________________________________\n"
     ]
    }
   ],
   "source": [
    "model.summary()"
   ]
  },
  {
   "cell_type": "code",
   "execution_count": 32,
   "metadata": {},
   "outputs": [],
   "source": [
    "logdir = \"logs\""
   ]
  },
  {
   "cell_type": "code",
   "execution_count": 33,
   "metadata": {},
   "outputs": [],
   "source": [
    "tensorboard_callback = tf.keras.callbacks.TensorBoard(log_dir = logdir)"
   ]
  },
  {
   "cell_type": "code",
   "execution_count": 34,
   "metadata": {},
   "outputs": [
    {
     "name": "stderr",
     "output_type": "stream",
     "text": [
      "/var/folders/3w/6zx_6kyx4dqd7p83pv_69b800000gn/T/ipykernel_55888/2024658123.py:1: UserWarning: `Model.fit_generator` is deprecated and will be removed in a future version. Please use `Model.fit`, which supports generators.\n",
      "  history = model.fit_generator(\n"
     ]
    },
    {
     "name": "stdout",
     "output_type": "stream",
     "text": [
      "Epoch 1/20\n"
     ]
    },
    {
     "name": "stderr",
     "output_type": "stream",
     "text": [
      "2024-01-02 16:37:59.648208: I tensorflow/core/grappler/optimizers/custom_graph_optimizer_registry.cc:117] Plugin optimizer for device_type GPU is enabled.\n",
      "2024-01-02 16:37:59.709977: E tensorflow/core/grappler/optimizers/meta_optimizer.cc:961] model_pruner failed: INVALID_ARGUMENT: Graph does not contain terminal node Adam/AssignAddVariableOp.\n"
     ]
    },
    {
     "name": "stdout",
     "output_type": "stream",
     "text": [
      "13/13 [==============================] - 5s 282ms/step - loss: 6.8815 - accuracy: 0.4939 - val_loss: 6.7154 - val_accuracy: 0.5534\n",
      "Epoch 2/20\n",
      "13/13 [==============================] - 3s 229ms/step - loss: 2.2965 - accuracy: 0.5230 - val_loss: 0.8289 - val_accuracy: 0.5534\n",
      "Epoch 3/20\n",
      "13/13 [==============================] - 3s 247ms/step - loss: 0.6629 - accuracy: 0.6513 - val_loss: 0.6882 - val_accuracy: 0.5534\n",
      "Epoch 4/20\n",
      "13/13 [==============================] - 3s 248ms/step - loss: 0.6257 - accuracy: 0.6755 - val_loss: 0.6040 - val_accuracy: 0.7961\n",
      "Epoch 5/20\n",
      "13/13 [==============================] - 3s 250ms/step - loss: 0.7301 - accuracy: 0.6925 - val_loss: 0.6579 - val_accuracy: 0.7379\n",
      "Epoch 6/20\n",
      "13/13 [==============================] - 3s 238ms/step - loss: 0.6272 - accuracy: 0.6150 - val_loss: 0.7547 - val_accuracy: 0.3981\n",
      "Epoch 7/20\n",
      "13/13 [==============================] - 3s 233ms/step - loss: 0.5522 - accuracy: 0.7070 - val_loss: 0.7503 - val_accuracy: 0.6602\n",
      "Epoch 8/20\n",
      "13/13 [==============================] - 3s 235ms/step - loss: 0.4404 - accuracy: 0.8378 - val_loss: 0.6380 - val_accuracy: 0.7767\n",
      "Epoch 9/20\n",
      "13/13 [==============================] - 3s 230ms/step - loss: 0.4395 - accuracy: 0.8329 - val_loss: 0.5946 - val_accuracy: 0.7961\n",
      "Epoch 10/20\n",
      "13/13 [==============================] - 3s 236ms/step - loss: 0.4191 - accuracy: 0.8208 - val_loss: 0.7899 - val_accuracy: 0.7476\n",
      "Epoch 11/20\n",
      "13/13 [==============================] - 3s 229ms/step - loss: 0.3985 - accuracy: 0.8547 - val_loss: 0.7100 - val_accuracy: 0.7282\n",
      "Epoch 12/20\n",
      "13/13 [==============================] - 3s 234ms/step - loss: 0.3798 - accuracy: 0.8741 - val_loss: 1.1609 - val_accuracy: 0.6408\n",
      "Epoch 13/20\n",
      "13/13 [==============================] - 3s 231ms/step - loss: 0.3431 - accuracy: 0.8814 - val_loss: 0.7183 - val_accuracy: 0.7670\n",
      "Epoch 14/20\n",
      "13/13 [==============================] - 3s 230ms/step - loss: 0.3300 - accuracy: 0.8983 - val_loss: 0.7160 - val_accuracy: 0.8155\n",
      "Epoch 15/20\n",
      "13/13 [==============================] - 3s 231ms/step - loss: 0.3495 - accuracy: 0.8886 - val_loss: 0.5134 - val_accuracy: 0.8350\n",
      "Epoch 16/20\n",
      "13/13 [==============================] - 3s 234ms/step - loss: 0.2927 - accuracy: 0.9007 - val_loss: 0.5087 - val_accuracy: 0.8252\n",
      "Epoch 17/20\n",
      "13/13 [==============================] - 3s 231ms/step - loss: 0.2659 - accuracy: 0.9153 - val_loss: 0.6873 - val_accuracy: 0.8058\n",
      "Epoch 18/20\n",
      "13/13 [==============================] - 3s 232ms/step - loss: 0.3196 - accuracy: 0.8910 - val_loss: 0.2498 - val_accuracy: 0.9223\n",
      "Epoch 19/20\n",
      "13/13 [==============================] - 3s 238ms/step - loss: 0.2404 - accuracy: 0.9104 - val_loss: 0.3379 - val_accuracy: 0.8932\n",
      "Epoch 20/20\n",
      "13/13 [==============================] - 3s 238ms/step - loss: 0.2364 - accuracy: 0.9177 - val_loss: 0.2743 - val_accuracy: 0.9223\n"
     ]
    }
   ],
   "source": [
    "history = model.fit_generator(\n",
    "    train_data_gen, \n",
    "    epochs = 20,\n",
    "    steps_per_epoch = int(np.ceil(total_train / float(batch_size))),\n",
    "    validation_data = validation_data_gen,\n",
    "    validation_steps = int(np.ceil(total_validation / float(batch_size))),\n",
    "    callbacks = [tensorboard_callback]\n",
    ")"
   ]
  },
  {
   "cell_type": "markdown",
   "metadata": {},
   "source": [
    "`PLOT THE MODEL PERFORMANCE.`"
   ]
  },
  {
   "cell_type": "code",
   "execution_count": 35,
   "metadata": {},
   "outputs": [],
   "source": [
    "acc = history.history[\"accuracy\"]\n",
    "validation_accuracy = history.history[\"val_accuracy\"]\n",
    "\n",
    "loss = history.history[\"loss\"]\n",
    "validation_loss = history.history[\"val_loss\"]\n",
    "epochs = 20\n",
    "epoch_range = range(epochs)"
   ]
  },
  {
   "cell_type": "code",
   "execution_count": 36,
   "metadata": {},
   "outputs": [
    {
     "name": "stdout",
     "output_type": "stream",
     "text": [
      "Accuracy on validation set: [0.553398072719574, 0.553398072719574, 0.553398072719574, 0.7961165308952332, 0.737864077091217, 0.3980582654476166, 0.6601941585540771, 0.7766990065574646, 0.7961165308952332, 0.7475728392601013, 0.7281553149223328, 0.6407766938209534, 0.7669903039932251, 0.8155339956283569, 0.8349514603614807, 0.8252426981925964, 0.8058252334594727, 0.9223300814628601, 0.893203854560852, 0.9223300814628601]\n"
     ]
    }
   ],
   "source": [
    "print(f\"Accuracy on validation set: {validation_accuracy}\")"
   ]
  },
  {
   "cell_type": "code",
   "execution_count": 37,
   "metadata": {},
   "outputs": [
    {
     "data": {
      "image/png": "[encoded data removed]",
      "text/plain": [
       "<Figure size 640x480 with 1 Axes>"
      ]
     },
     "metadata": {},
     "output_type": "display_data"
    }
   ],
   "source": [
    "plt.plot(epoch_range, acc, label = \"Training Accuracy.\")\n",
    "plt.plot(epoch_range, validation_accuracy, label = \"Validation Accuracy\")\n",
    "plt.plot(loc = \"lower right\")\n",
    "plt.title(\"Training and Validation Accuracy.\")\n",
    "plt.legend()\n",
    "plt.show()"
   ]
  },
  {
   "cell_type": "code",
   "execution_count": 38,
   "metadata": {},
   "outputs": [
    {
     "data": {
      "image/png": "[encoded data removed]",
      "text/plain": [
       "<Figure size 640x480 with 1 Axes>"
      ]
     },
     "metadata": {},
     "output_type": "display_data"
    }
   ],
   "source": [
    "plt.plot(history.history[\"accuracy\"], label = \"Training Accuracy\")\n",
    "plt.plot(history.history[\"val_accuracy\"], label = \"Validation Accuracy\")\n",
    "plt.xlabel(\"Epoch\")\n",
    "plt.ylabel(\"Accuracy\")\n",
    "plt.legend()\n",
    "plt.show()"
   ]
  },
  {
   "cell_type": "code",
   "execution_count": 39,
   "metadata": {},
   "outputs": [
    {
     "data": {
      "image/png": "[encoded data removed]",
      "text/plain": [
       "<Figure size 640x480 with 1 Axes>"
      ]
     },
     "metadata": {},
     "output_type": "display_data"
    }
   ],
   "source": [
    "plt.plot(epoch_range, loss, label = \"Training Loss\")\n",
    "plt.plot(epoch_range, validation_loss, label = \"Validation Loss\")\n",
    "plt.xlabel(\"Epoch\")\n",
    "plt.ylabel(\"Loss\")\n",
    "plt.title(\"Training and Validation Loss\")\n",
    "plt.legend()\n",
    "plt.show()"
   ]
  },
  {
   "cell_type": "markdown",
   "metadata": {},
   "source": [
    "`NOTE`\n",
    "\n",
    "Diffeent from the upstream with the following;\n",
    "* Added 2 extra layers marked with comment-**\n",
    "* Increased epochs & epoch_range to 20.\n",
    "* Changed the loss  {REVERTED}"
   ]
  },
  {
   "cell_type": "markdown",
   "metadata": {},
   "source": [
    "`Evaluate the Model.`"
   ]
  },
  {
   "cell_type": "code",
   "execution_count": 40,
   "metadata": {},
   "outputs": [
    {
     "name": "stdout",
     "output_type": "stream",
     "text": [
      "13/13 [==============================] - 3s 220ms/step - loss: 0.2223 - accuracy: 0.9225\n"
     ]
    }
   ],
   "source": [
    "results = model.evaluate(train_data_gen)"
   ]
  },
  {
   "cell_type": "code",
   "execution_count": 41,
   "metadata": {},
   "outputs": [
    {
     "data": {
      "text/plain": [
       "[0.22231104969978333, 0.9225181341171265]"
      ]
     },
     "execution_count": 41,
     "metadata": {},
     "output_type": "execute_result"
    }
   ],
   "source": [
    "results"
   ]
  },
  {
   "cell_type": "markdown",
   "metadata": {},
   "source": [
    "`Try some predictions.`"
   ]
  },
  {
   "cell_type": "code",
   "execution_count": 42,
   "metadata": {},
   "outputs": [
    {
     "name": "stdout",
     "output_type": "stream",
     "text": [
      "1/1 [==============================] - 0s 174ms/step\n"
     ]
    }
   ],
   "source": [
    "predictions = model.predict(test_set, batch_size = batch_size)"
   ]
  },
  {
   "cell_type": "code",
   "execution_count": 43,
   "metadata": {},
   "outputs": [
    {
     "name": "stdout",
     "output_type": "stream",
     "text": [
      "[[  0.3347835   -2.430287  ]\n",
      " [  0.538142    -2.5977707 ]\n",
      " [  0.21794266  -2.1960247 ]\n",
      " [  0.5398434   -2.5936644 ]\n",
      " [  0.5497587   -2.5990314 ]\n",
      " [-12.872332    12.986169  ]]\n"
     ]
    }
   ],
   "source": [
    "print(predictions[:6])"
   ]
  },
  {
   "cell_type": "code",
   "execution_count": 44,
   "metadata": {},
   "outputs": [
    {
     "data": {
      "text/plain": [
       "(2,)"
      ]
     },
     "execution_count": 44,
     "metadata": {},
     "output_type": "execute_result"
    }
   ],
   "source": [
    "predictions[4].shape"
   ]
  },
  {
   "cell_type": "code",
   "execution_count": 45,
   "metadata": {},
   "outputs": [
    {
     "data": {
      "text/plain": [
       "-2.0492728"
      ]
     },
     "execution_count": 45,
     "metadata": {},
     "output_type": "execute_result"
    }
   ],
   "source": [
    "np.sum(predictions[4])"
   ]
  },
  {
   "cell_type": "markdown",
   "metadata": {},
   "source": [
    "`Save the Model.`\n",
    "\n",
    "MODEL PERFORMANCE TRACK : {\n",
    "    \"imageclassifier001: 89%\n",
    "}"
   ]
  },
  {
   "cell_type": "code",
   "execution_count": 46,
   "metadata": {},
   "outputs": [],
   "source": [
    "#model.save(os.path.join(\"models\", \"imageclassifier01v1.h5\"))"
   ]
  }
 ],
 "metadata": {
  "kernelspec": {
   "display_name": "base",
   "language": "python",
   "name": "python3"
  },
  "language_info": {
   "codemirror_mode": {
    "name": "ipython",
    "version": 3
   },
   "file_extension": ".py",
   "mimetype": "text/x-python",
   "name": "python",
   "nbconvert_exporter": "python",
   "pygments_lexer": "ipython3",
   "version": "3.10.12"
  }
 },
 "nbformat": 4,
 "nbformat_minor": 2
}
